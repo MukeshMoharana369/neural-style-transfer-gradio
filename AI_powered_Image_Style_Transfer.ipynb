{
  "nbformat": 4,
  "nbformat_minor": 0,
  "metadata": {
    "colab": {
      "provenance": [],
      "gpuType": "T4"
    },
    "kernelspec": {
      "name": "python3",
      "display_name": "Python 3"
    },
    "language_info": {
      "name": "python"
    },
    "accelerator": "GPU"
  },
  "cells": [
    {
      "cell_type": "code",
      "source": [
        "!pip install -q gradio tensorflow tensorflow_hub\n"
      ],
      "metadata": {
        "colab": {
          "base_uri": "https://localhost:8080/"
        },
        "id": "S9nxVE_qr8fP",
        "outputId": "bcf7b0f0-4966-41c9-891d-cb7e0c1a5e52"
      },
      "execution_count": null,
      "outputs": [
        {
          "output_type": "stream",
          "name": "stdout",
          "text": [
            "\u001b[2K   \u001b[90m━━━━━━━━━━━━━━━━━━━━━━━━━━━━━━━━━━━━━━━━\u001b[0m \u001b[32m46.9/46.9 MB\u001b[0m \u001b[31m15.5 MB/s\u001b[0m eta \u001b[36m0:00:00\u001b[0m\n",
            "\u001b[2K   \u001b[90m━━━━━━━━━━━━━━━━━━━━━━━━━━━━━━━━━━━━━━━━\u001b[0m \u001b[32m322.6/322.6 kB\u001b[0m \u001b[31m17.2 MB/s\u001b[0m eta \u001b[36m0:00:00\u001b[0m\n",
            "\u001b[2K   \u001b[90m━━━━━━━━━━━━━━━━━━━━━━━━━━━━━━━━━━━━━━━━\u001b[0m \u001b[32m95.2/95.2 kB\u001b[0m \u001b[31m7.2 MB/s\u001b[0m eta \u001b[36m0:00:00\u001b[0m\n",
            "\u001b[2K   \u001b[90m━━━━━━━━━━━━━━━━━━━━━━━━━━━━━━━━━━━━━━━━\u001b[0m \u001b[32m11.5/11.5 MB\u001b[0m \u001b[31m91.8 MB/s\u001b[0m eta \u001b[36m0:00:00\u001b[0m\n",
            "\u001b[2K   \u001b[90m━━━━━━━━━━━━━━━━━━━━━━━━━━━━━━━━━━━━━━━━\u001b[0m \u001b[32m72.0/72.0 kB\u001b[0m \u001b[31m5.4 MB/s\u001b[0m eta \u001b[36m0:00:00\u001b[0m\n",
            "\u001b[2K   \u001b[90m━━━━━━━━━━━━━━━━━━━━━━━━━━━━━━━━━━━━━━━━\u001b[0m \u001b[32m62.5/62.5 kB\u001b[0m \u001b[31m4.5 MB/s\u001b[0m eta \u001b[36m0:00:00\u001b[0m\n",
            "\u001b[?25h"
          ]
        }
      ]
    },
    {
      "cell_type": "code",
      "source": [
        "import gradio as gr\n",
        "import tensorflow as tf\n",
        "import tensorflow_hub as hub\n",
        "import numpy as np\n",
        "from PIL import Image\n",
        "\n",
        "# Load the style transfer model from TensorFlow Hub\n",
        "hub_model = hub.load('https://tfhub.dev/google/magenta/arbitrary-image-stylization-v1-256/2')\n",
        "\n",
        "# Helper: Preprocess PIL image into model input\n",
        "def preprocess(image):\n",
        "    image = np.array(image)\n",
        "    image = tf.convert_to_tensor(image, dtype=tf.float32)\n",
        "    image = tf.image.resize(image, (256, 256))\n",
        "    image = image[tf.newaxis, ...] / 255.0\n",
        "    return image\n",
        "\n",
        "# Main function to apply style transfer\n",
        "def style_transfer(content_img, style_img, content_weight, style_weight):\n",
        "    content_tensor = preprocess(content_img)\n",
        "    style_tensor = preprocess(style_img)\n",
        "\n",
        "    # Run model\n",
        "    stylized_image = hub_model(content_tensor, style_tensor)[0]\n",
        "\n",
        "    # Convert to image\n",
        "    stylized_image = tf.squeeze(stylized_image) * 255\n",
        "    stylized_image = tf.cast(stylized_image, tf.uint8).numpy()\n",
        "    result = Image.fromarray(stylized_image)\n",
        "\n",
        "    return result\n",
        "\n",
        "# Gradio UI\n",
        "gr.Interface(\n",
        "    fn=style_transfer,\n",
        "    inputs=[\n",
        "        gr.Image(type=\"pil\", label=\"Content Image\"),\n",
        "        gr.Image(type=\"pil\", label=\"Style Image\"),\n",
        "        gr.Slider(minimum=0.01, maximum=10, value=1.0, step=0.1, label=\"Content Weight\"),\n",
        "        gr.Slider(minimum=0.01, maximum=10, value=1.0, step=0.1, label=\"Style Weight\")\n",
        "    ],\n",
        "    outputs=gr.Image(type=\"pil\", label=\"Stylized Output\"),\n",
        "    title=\"AI Style Transfer with TensorFlow Hub\",\n",
        "    description=\"Upload a content image and a style image to blend them using Magenta's model.\"\n",
        ").launch()\n",
        "\n"
      ],
      "metadata": {
        "colab": {
          "base_uri": "https://localhost:8080/",
          "height": 625
        },
        "id": "QXk7_G1YsFYQ",
        "outputId": "896a83a7-55b4-4541-b63b-5ac81925ce47"
      },
      "execution_count": null,
      "outputs": [
        {
          "output_type": "stream",
          "name": "stdout",
          "text": [
            "It looks like you are running Gradio on a hosted a Jupyter notebook. For the Gradio app to work, sharing must be enabled. Automatically setting `share=True` (you can turn this off by setting `share=False` in `launch()` explicitly).\n",
            "\n",
            "Colab notebook detected. To show errors in colab notebook, set debug=True in launch()\n",
            "* Running on public URL: https://a4fd41d86b43472518.gradio.live\n",
            "\n",
            "This share link expires in 1 week. For free permanent hosting and GPU upgrades, run `gradio deploy` from the terminal in the working directory to deploy to Hugging Face Spaces (https://huggingface.co/spaces)\n"
          ]
        },
        {
          "output_type": "display_data",
          "data": {
            "text/plain": [
              "<IPython.core.display.HTML object>"
            ],
            "text/html": [
              "<div><iframe src=\"https://a4fd41d86b43472518.gradio.live\" width=\"100%\" height=\"500\" allow=\"autoplay; camera; microphone; clipboard-read; clipboard-write;\" frameborder=\"0\" allowfullscreen></iframe></div>"
            ]
          },
          "metadata": {}
        },
        {
          "output_type": "execute_result",
          "data": {
            "text/plain": []
          },
          "metadata": {},
          "execution_count": 3
        }
      ]
    }
  ]
}